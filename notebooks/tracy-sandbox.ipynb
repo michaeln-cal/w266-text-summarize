{
 "cells": [
  {
   "cell_type": "markdown",
   "metadata": {},
   "source": [
    "# Sandbox notebook\n",
    "\n",
    "placeholder...\n",
    "\n",
    "since notebooks don't merge in git, we can each have our own notebooks, and store (reusable) code in normal python files."
   ]
  },
  {
   "cell_type": "code",
   "execution_count": 1,
   "metadata": {},
   "outputs": [
    {
     "name": "stdout",
     "output_type": "stream",
     "text": [
      "[ 42.]\n",
      "[ 4.  6.]\n"
     ]
    }
   ],
   "source": [
    "import os\n",
    "from importlib import reload\n",
    "if os.path.isdir(\"../code/util/\"):\n",
    "    os.chdir('../code')\n",
    "\n",
    "from util import graph, graph_test\n",
    "reload(graph)\n",
    "reload(graph_test)\n",
    "\n",
    "adder = graph.AddTwo()  # Internally, creates tf.Graph and tf.Session\\n\"\n",
    "print(adder.Add(40, 2))\n",
    "print(adder.Add([1,2],[3,4]))"
   ]
  },
  {
   "cell_type": "markdown",
   "metadata": {},
   "source": [
    "we can also add code in this directory that is shared across notebooks (but only used in notebooks).\n",
    "\n",
    "code that is used outside of notebooks can be placed in ../code"
   ]
  }
 ],
 "metadata": {
  "kernelspec": {
   "display_name": "Python 3",
   "language": "python",
   "name": "python3"
  },
  "language_info": {
   "codemirror_mode": {
    "name": "ipython",
    "version": 3
   },
   "file_extension": ".py",
   "mimetype": "text/x-python",
   "name": "python",
   "nbconvert_exporter": "python",
   "pygments_lexer": "ipython3",
   "version": "3.5.3"
  }
 },
 "nbformat": 4,
 "nbformat_minor": 2
}
